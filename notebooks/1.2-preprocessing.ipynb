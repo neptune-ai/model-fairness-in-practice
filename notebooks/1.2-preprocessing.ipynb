{
 "cells": [
  {
   "cell_type": "markdown",
   "metadata": {},
   "source": [
    "# Pre-Processing\n",
    "\n",
    "<img src=\"../images/pre-processing.png\" alt=\"Drawing\" style=\"width: 600px;\"/>"
   ]
  },
  {
   "cell_type": "code",
   "execution_count": 2,
   "metadata": {},
   "outputs": [],
   "source": [
    "from aif360.metrics.classification_metric import ClassificationMetric\n",
    "import matplotlib.pyplot as plt\n",
    "import pandas as pd\n",
    "from sklearn.metrics import accuracy_score\n",
    "from sklearn.linear_model import LogisticRegression\n",
    "from sklearn.model_selection import train_test_split\n",
    "import warnings\n",
    "\n",
    "import joblib\n",
    "from utils import make_dataset, display_results\n",
    "\n",
    "warnings.filterwarnings('ignore')\n",
    "\n",
    "BIAS_INFO = {'favorable_label':0,\n",
    "             'unfavorable_label':1,\n",
    "             'protected_columns':['race'],\n",
    "            }\n",
    "\n",
    "PRIVILEGED_INFO = {'unprivileged_groups':[{'race': 2},\n",
    "                                          {'race': 1},\n",
    "                                          {'race': 4},\n",
    "                                          {'race': 5},\n",
    "                                          {'race': 6}],\n",
    "                   'privileged_groups':[{'race': 3}]\n",
    "                  }\n",
    "\n",
    "data = pd.read_csv('../data/processed/compas-scores-two-years-processed.csv')\n",
    "\n",
    "DROP_COLS = ['two_year_recid','compas_score','decile_score','compas_class']\n",
    "FEATURE_COLS = data.drop(DROP_COLS, axis=1).columns.tolist()"
   ]
  },
  {
   "cell_type": "markdown",
   "metadata": {},
   "source": [
    "# Disparate Impact Remover\n",
    "\n",
    "## Method\n",
    "\n",
    "TODO\n",
    "\n",
    "## Pros and Cons\n",
    "\n",
    "TODO\n",
    "\n",
    "## Materials\n",
    "\n",
    "* Paper [\"Decision Theory for Discrimination-aware Classification\" by Kamiran, Karim, and Zhang](https://mine.kaust.edu.sa/Documents/papers/ICDM_2012.pdf)"
   ]
  },
  {
   "cell_type": "code",
   "execution_count": 3,
   "metadata": {},
   "outputs": [],
   "source": [
    "from aif360.algorithms.preprocessing import DisparateImpactRemover\n",
    "\n",
    "dataset = make_dataset(data[FEATURE_COLS], data['two_year_recid'], **BIAS_INFO, **PRIVILEGED_INFO)\n",
    "\n",
    "disp_imp_remover = DisparateImpactRemover(sensitive_attribute='race',repair_level=1.0)\n",
    "\n",
    "dataset = disp_imp_remover.fit_transform(dataset).convert_to_dataframe()[0]"
   ]
  },
  {
   "cell_type": "code",
   "execution_count": 4,
   "metadata": {},
   "outputs": [],
   "source": [
    "data_cleaned = data.copy()\n",
    "data_cleaned['race'] = dataset['race'].values"
   ]
  },
  {
   "cell_type": "code",
   "execution_count": 5,
   "metadata": {},
   "outputs": [],
   "source": [
    "train, test = train_test_split(data_cleaned, test_size=0.2, random_state=1234)\n",
    "\n",
    "X_train, y_train = train[FEATURE_COLS], train['two_year_recid']\n",
    "X_test, y_test = test[FEATURE_COLS], test['two_year_recid']"
   ]
  },
  {
   "cell_type": "code",
   "execution_count": 6,
   "metadata": {},
   "outputs": [],
   "source": [
    "clf = LogisticRegression(random_state=1234)\n",
    "clf.fit(X_train, y_train)\n",
    "\n",
    "y_test_pred = clf.predict_proba(X_test)\n",
    "test['recid_prediction_score'] = y_test_pred[:,1]\n",
    "test['recid_prediction_class'] = (test['recid_prediction_score'] >0.5).astype(int)\n",
    "\n",
    "acc = accuracy_score(y_test, test['recid_prediction_class'])"
   ]
  },
  {
   "cell_type": "code",
   "execution_count": 7,
   "metadata": {},
   "outputs": [],
   "source": [
    "ground_truth_test = make_dataset(test[FEATURE_COLS], test['two_year_recid'], **BIAS_INFO, **PRIVILEGED_INFO)\n",
    "prediction_test = make_dataset(test[FEATURE_COLS], test['recid_prediction_class'], test['recid_prediction_score'], **BIAS_INFO, **PRIVILEGED_INFO)\n",
    "\n",
    "clf_metric = ClassificationMetric(ground_truth_test, prediction_test,**PRIVILEGED_INFO)"
   ]
  },
  {
   "cell_type": "code",
   "execution_count": 8,
   "metadata": {},
   "outputs": [
    {
     "data": {
      "text/html": [
       "<table style='width:100%; border:0px'><td style='width:30%;vertical-align:top;border:0px'><table border=\"1\" class=\"dataframe\">\n",
       "  <thead>\n",
       "    <tr style=\"text-align: right;\">\n",
       "      <th></th>\n",
       "      <th>metric_names</th>\n",
       "      <th>scores</th>\n",
       "    </tr>\n",
       "  </thead>\n",
       "  <tbody>\n",
       "    <tr>\n",
       "      <th>0</th>\n",
       "      <td>accuracy_score</td>\n",
       "      <td>0.671518</td>\n",
       "    </tr>\n",
       "    <tr>\n",
       "      <th>1</th>\n",
       "      <td>true_positive_rate_difference</td>\n",
       "      <td>-0.102441</td>\n",
       "    </tr>\n",
       "    <tr>\n",
       "      <th>2</th>\n",
       "      <td>false_positive_rate_difference</td>\n",
       "      <td>-0.247320</td>\n",
       "    </tr>\n",
       "    <tr>\n",
       "      <th>3</th>\n",
       "      <td>false_omission_rate_difference</td>\n",
       "      <td>-0.035370</td>\n",
       "    </tr>\n",
       "    <tr>\n",
       "      <th>4</th>\n",
       "      <td>false_discovery_rate_difference</td>\n",
       "      <td>-0.042279</td>\n",
       "    </tr>\n",
       "    <tr>\n",
       "      <th>5</th>\n",
       "      <td>error_rate_difference</td>\n",
       "      <td>-0.034496</td>\n",
       "    </tr>\n",
       "    <tr>\n",
       "      <th>6</th>\n",
       "      <td>false_positive_rate_ratio</td>\n",
       "      <td>0.621169</td>\n",
       "    </tr>\n",
       "    <tr>\n",
       "      <th>7</th>\n",
       "      <td>false_negative_rate_ratio</td>\n",
       "      <td>1.714525</td>\n",
       "    </tr>\n",
       "    <tr>\n",
       "      <th>8</th>\n",
       "      <td>false_omission_rate_ratio</td>\n",
       "      <td>0.905385</td>\n",
       "    </tr>\n",
       "    <tr>\n",
       "      <th>9</th>\n",
       "      <td>false_discovery_rate_ratio</td>\n",
       "      <td>0.877524</td>\n",
       "    </tr>\n",
       "    <tr>\n",
       "      <th>10</th>\n",
       "      <td>error_rate_ratio</td>\n",
       "      <td>0.901915</td>\n",
       "    </tr>\n",
       "    <tr>\n",
       "      <th>11</th>\n",
       "      <td>average_odds_difference</td>\n",
       "      <td>-0.174880</td>\n",
       "    </tr>\n",
       "    <tr>\n",
       "      <th>12</th>\n",
       "      <td>disparate_impact</td>\n",
       "      <td>0.773760</td>\n",
       "    </tr>\n",
       "    <tr>\n",
       "      <th>13</th>\n",
       "      <td>statistical_parity_difference</td>\n",
       "      <td>-0.174953</td>\n",
       "    </tr>\n",
       "    <tr>\n",
       "      <th>14</th>\n",
       "      <td>equal_opportunity_difference</td>\n",
       "      <td>-0.102441</td>\n",
       "    </tr>\n",
       "    <tr>\n",
       "      <th>15</th>\n",
       "      <td>theil_index</td>\n",
       "      <td>0.179894</td>\n",
       "    </tr>\n",
       "    <tr>\n",
       "      <th>16</th>\n",
       "      <td>between_group_theil_index</td>\n",
       "      <td>0.001712</td>\n",
       "    </tr>\n",
       "    <tr>\n",
       "      <th>17</th>\n",
       "      <td>between_all_groups_theil_index</td>\n",
       "      <td>0.002625</td>\n",
       "    </tr>\n",
       "    <tr>\n",
       "      <th>18</th>\n",
       "      <td>coefficient_of_variation</td>\n",
       "      <td>0.734304</td>\n",
       "    </tr>\n",
       "    <tr>\n",
       "      <th>19</th>\n",
       "      <td>between_group_coefficient_of_variation</td>\n",
       "      <td>0.083318</td>\n",
       "    </tr>\n",
       "    <tr>\n",
       "      <th>20</th>\n",
       "      <td>between_all_groups_coefficient_of_variation</td>\n",
       "      <td>0.102735</td>\n",
       "    </tr>\n",
       "    <tr>\n",
       "      <th>21</th>\n",
       "      <td>generalized_entropy_index</td>\n",
       "      <td>0.134801</td>\n",
       "    </tr>\n",
       "    <tr>\n",
       "      <th>22</th>\n",
       "      <td>between_group_generalized_entropy_index</td>\n",
       "      <td>0.001735</td>\n",
       "    </tr>\n",
       "    <tr>\n",
       "      <th>23</th>\n",
       "      <td>between_all_groups_generalized_entropy_index</td>\n",
       "      <td>0.002639</td>\n",
       "    </tr>\n",
       "  </tbody>\n",
       "</table></td><td style='width:70%;vertical-align:center;border:100px'><img src=\"../results/temp_img.png\" style=\"height:300px\"></td></table>"
      ],
      "text/plain": [
       "<IPython.core.display.HTML object>"
      ]
     },
     "metadata": {},
     "output_type": "display_data"
    }
   ],
   "source": [
    "joblib.dump((clf_metric,acc), '../results/1.2-disparate_impact_remover.pkl')\n",
    "display_results('../results/1.2-disparate_impact_remover.pkl')"
   ]
  },
  {
   "cell_type": "markdown",
   "metadata": {},
   "source": [
    "# Reweighing\n",
    "\n",
    "## Method\n",
    "\n",
    "TODO\n",
    "\n",
    "## Pros and Cons\n",
    "\n",
    "TODO\n",
    "\n",
    "## Materials\n",
    "\n",
    "* Paper [\"Decision Theory for Discrimination-aware Classification\" by Kamiran, Karim, and Zhang](https://mine.kaust.edu.sa/Documents/papers/ICDM_2012.pdf)"
   ]
  },
  {
   "cell_type": "code",
   "execution_count": 10,
   "metadata": {},
   "outputs": [],
   "source": [
    "from aif360.algorithms.preprocessing import Reweighing\n",
    "\n",
    "reweighing = Reweighing(**PRIVILEGED_INFO)"
   ]
  },
  {
   "cell_type": "code",
   "execution_count": 11,
   "metadata": {},
   "outputs": [],
   "source": [
    "train, test = train_test_split(data, test_size=0.2, random_state=1234)\n",
    "\n",
    "train_dataset = make_dataset(train[FEATURE_COLS], train['two_year_recid'], **BIAS_INFO, **PRIVILEGED_INFO)\n",
    "test_dataset = make_dataset(test[FEATURE_COLS], test['two_year_recid'], **BIAS_INFO, **PRIVILEGED_INFO)\n",
    "\n",
    "train_dataset = reweighing.fit_transform(train_dataset)\n",
    "test_dataset = reweighing.transform(test_dataset)"
   ]
  },
  {
   "cell_type": "code",
   "execution_count": 12,
   "metadata": {},
   "outputs": [
    {
     "data": {
      "text/plain": [
       "array([1.06614556, 1.06614556, 0.9307455 , ..., 1.06614556, 0.89397015,\n",
       "       0.9307455 ])"
      ]
     },
     "execution_count": 12,
     "metadata": {},
     "output_type": "execute_result"
    }
   ],
   "source": [
    "train_dataset.instance_weights"
   ]
  },
  {
   "cell_type": "code",
   "execution_count": 13,
   "metadata": {},
   "outputs": [],
   "source": [
    "train['race']=train_dataset.convert_to_dataframe()[0]['race'].values\n",
    "test['race']=test_dataset.convert_to_dataframe()[0]['race'].values\n",
    "\n",
    "train_weights = train_dataset.instance_weights"
   ]
  },
  {
   "cell_type": "code",
   "execution_count": 14,
   "metadata": {},
   "outputs": [],
   "source": [
    "X_train, y_train = train[FEATURE_COLS], train['two_year_recid']\n",
    "X_test, y_test = test[FEATURE_COLS], test['two_year_recid']"
   ]
  },
  {
   "cell_type": "code",
   "execution_count": 15,
   "metadata": {},
   "outputs": [],
   "source": [
    "clf = LogisticRegression(random_state=1234)\n",
    "clf.fit(X_train, y_train, sample_weight=train_weights)\n",
    "\n",
    "y_test_pred = clf.predict_proba(X_test)\n",
    "test['recid_prediction_score'] = y_test_pred[:,1]\n",
    "test['recid_prediction_class'] = (test['recid_prediction_score'] >0.5).astype(int)\n",
    "\n",
    "acc = accuracy_score(y_test, test['recid_prediction_class'])"
   ]
  },
  {
   "cell_type": "code",
   "execution_count": 16,
   "metadata": {},
   "outputs": [],
   "source": [
    "ground_truth_test = make_dataset(test[FEATURE_COLS], test['two_year_recid'], **BIAS_INFO, **PRIVILEGED_INFO)\n",
    "prediction_test = make_dataset(test[FEATURE_COLS], test['recid_prediction_class'], test['recid_prediction_score'], **BIAS_INFO, **PRIVILEGED_INFO)\n",
    "\n",
    "clf_metric = ClassificationMetric(ground_truth_test, prediction_test,**PRIVILEGED_INFO)"
   ]
  },
  {
   "cell_type": "code",
   "execution_count": 17,
   "metadata": {},
   "outputs": [
    {
     "data": {
      "text/html": [
       "<table style='width:100%; border:0px'><td style='width:30%;vertical-align:top;border:0px'><table border=\"1\" class=\"dataframe\">\n",
       "  <thead>\n",
       "    <tr style=\"text-align: right;\">\n",
       "      <th></th>\n",
       "      <th>metric_names</th>\n",
       "      <th>scores</th>\n",
       "    </tr>\n",
       "  </thead>\n",
       "  <tbody>\n",
       "    <tr>\n",
       "      <th>0</th>\n",
       "      <td>accuracy_score</td>\n",
       "      <td>0.672211</td>\n",
       "    </tr>\n",
       "    <tr>\n",
       "      <th>1</th>\n",
       "      <td>true_positive_rate_difference</td>\n",
       "      <td>-0.087543</td>\n",
       "    </tr>\n",
       "    <tr>\n",
       "      <th>2</th>\n",
       "      <td>false_positive_rate_difference</td>\n",
       "      <td>-0.193763</td>\n",
       "    </tr>\n",
       "    <tr>\n",
       "      <th>3</th>\n",
       "      <td>false_omission_rate_difference</td>\n",
       "      <td>-0.022008</td>\n",
       "    </tr>\n",
       "    <tr>\n",
       "      <th>4</th>\n",
       "      <td>false_discovery_rate_difference</td>\n",
       "      <td>-0.023299</td>\n",
       "    </tr>\n",
       "    <tr>\n",
       "      <th>5</th>\n",
       "      <td>error_rate_difference</td>\n",
       "      <td>-0.019783</td>\n",
       "    </tr>\n",
       "    <tr>\n",
       "      <th>6</th>\n",
       "      <td>false_positive_rate_ratio</td>\n",
       "      <td>0.690940</td>\n",
       "    </tr>\n",
       "    <tr>\n",
       "      <th>7</th>\n",
       "      <td>false_negative_rate_ratio</td>\n",
       "      <td>1.610615</td>\n",
       "    </tr>\n",
       "    <tr>\n",
       "      <th>8</th>\n",
       "      <td>false_omission_rate_ratio</td>\n",
       "      <td>0.938378</td>\n",
       "    </tr>\n",
       "    <tr>\n",
       "      <th>9</th>\n",
       "      <td>false_discovery_rate_ratio</td>\n",
       "      <td>0.930680</td>\n",
       "    </tr>\n",
       "    <tr>\n",
       "      <th>10</th>\n",
       "      <td>error_rate_ratio</td>\n",
       "      <td>0.942001</td>\n",
       "    </tr>\n",
       "    <tr>\n",
       "      <th>11</th>\n",
       "      <td>average_odds_difference</td>\n",
       "      <td>-0.140653</td>\n",
       "    </tr>\n",
       "    <tr>\n",
       "      <th>12</th>\n",
       "      <td>disparate_impact</td>\n",
       "      <td>0.811512</td>\n",
       "    </tr>\n",
       "    <tr>\n",
       "      <th>13</th>\n",
       "      <td>statistical_parity_difference</td>\n",
       "      <td>-0.143762</td>\n",
       "    </tr>\n",
       "    <tr>\n",
       "      <th>14</th>\n",
       "      <td>equal_opportunity_difference</td>\n",
       "      <td>-0.087543</td>\n",
       "    </tr>\n",
       "    <tr>\n",
       "      <th>15</th>\n",
       "      <td>theil_index</td>\n",
       "      <td>0.174000</td>\n",
       "    </tr>\n",
       "    <tr>\n",
       "      <th>16</th>\n",
       "      <td>between_group_theil_index</td>\n",
       "      <td>0.001005</td>\n",
       "    </tr>\n",
       "    <tr>\n",
       "      <th>17</th>\n",
       "      <td>between_all_groups_theil_index</td>\n",
       "      <td>0.002513</td>\n",
       "    </tr>\n",
       "    <tr>\n",
       "      <th>18</th>\n",
       "      <td>coefficient_of_variation</td>\n",
       "      <td>0.724326</td>\n",
       "    </tr>\n",
       "    <tr>\n",
       "      <th>19</th>\n",
       "      <td>between_group_coefficient_of_variation</td>\n",
       "      <td>0.063726</td>\n",
       "    </tr>\n",
       "    <tr>\n",
       "      <th>20</th>\n",
       "      <td>between_all_groups_coefficient_of_variation</td>\n",
       "      <td>0.100299</td>\n",
       "    </tr>\n",
       "    <tr>\n",
       "      <th>21</th>\n",
       "      <td>generalized_entropy_index</td>\n",
       "      <td>0.131162</td>\n",
       "    </tr>\n",
       "    <tr>\n",
       "      <th>22</th>\n",
       "      <td>between_group_generalized_entropy_index</td>\n",
       "      <td>0.001015</td>\n",
       "    </tr>\n",
       "    <tr>\n",
       "      <th>23</th>\n",
       "      <td>between_all_groups_generalized_entropy_index</td>\n",
       "      <td>0.002515</td>\n",
       "    </tr>\n",
       "  </tbody>\n",
       "</table></td><td style='width:70%;vertical-align:center;border:100px'><img src=\"../results/temp_img.png\" style=\"height:300px\"></td></table>"
      ],
      "text/plain": [
       "<IPython.core.display.HTML object>"
      ]
     },
     "metadata": {},
     "output_type": "display_data"
    }
   ],
   "source": [
    "joblib.dump((clf_metric,acc), '../results/1.2-reweighing.pkl')\n",
    "display_results('../results/1.2-reweighing.pkl')"
   ]
  },
  {
   "cell_type": "code",
   "execution_count": null,
   "metadata": {},
   "outputs": [],
   "source": []
  }
 ],
 "metadata": {
  "kernelspec": {
   "display_name": "model_fairness",
   "language": "python",
   "name": "model_fairness"
  },
  "language_info": {
   "codemirror_mode": {
    "name": "ipython",
    "version": 3
   },
   "file_extension": ".py",
   "mimetype": "text/x-python",
   "name": "python",
   "nbconvert_exporter": "python",
   "pygments_lexer": "ipython3",
   "version": "3.6.8"
  },
  "neptune": {
   "notebookId": "fc6bf6a6-d8ea-4418-93a9-d385209902bd"
  }
 },
 "nbformat": 4,
 "nbformat_minor": 4
}
