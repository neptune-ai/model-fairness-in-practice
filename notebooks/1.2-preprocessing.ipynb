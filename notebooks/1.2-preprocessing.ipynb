{
 "cells": [
  {
   "cell_type": "code",
   "execution_count": 5,
   "metadata": {},
   "outputs": [
    {
     "data": {
      "text/html": [
       "<div>\n",
       "<style scoped>\n",
       "    .dataframe tbody tr th:only-of-type {\n",
       "        vertical-align: middle;\n",
       "    }\n",
       "\n",
       "    .dataframe tbody tr th {\n",
       "        vertical-align: top;\n",
       "    }\n",
       "\n",
       "    .dataframe thead th {\n",
       "        text-align: right;\n",
       "    }\n",
       "</style>\n",
       "<table border=\"1\" class=\"dataframe\">\n",
       "  <thead>\n",
       "    <tr style=\"text-align: right;\">\n",
       "      <th></th>\n",
       "      <th>age</th>\n",
       "      <th>juv_fel_count</th>\n",
       "      <th>juv_misd_count</th>\n",
       "      <th>juv_other_count</th>\n",
       "      <th>priors_count</th>\n",
       "      <th>jail_time</th>\n",
       "      <th>sex</th>\n",
       "      <th>race</th>\n",
       "      <th>c_charge_degree</th>\n",
       "      <th>decile_score</th>\n",
       "      <th>two_year_recid</th>\n",
       "      <th>compas_score</th>\n",
       "    </tr>\n",
       "  </thead>\n",
       "  <tbody>\n",
       "    <tr>\n",
       "      <td>0</td>\n",
       "      <td>69</td>\n",
       "      <td>0</td>\n",
       "      <td>0</td>\n",
       "      <td>0</td>\n",
       "      <td>0</td>\n",
       "      <td>0.0</td>\n",
       "      <td>1</td>\n",
       "      <td>1</td>\n",
       "      <td>1</td>\n",
       "      <td>1</td>\n",
       "      <td>0</td>\n",
       "      <td>0.1</td>\n",
       "    </tr>\n",
       "    <tr>\n",
       "      <td>1</td>\n",
       "      <td>34</td>\n",
       "      <td>0</td>\n",
       "      <td>0</td>\n",
       "      <td>0</td>\n",
       "      <td>0</td>\n",
       "      <td>10.0</td>\n",
       "      <td>1</td>\n",
       "      <td>2</td>\n",
       "      <td>1</td>\n",
       "      <td>3</td>\n",
       "      <td>1</td>\n",
       "      <td>0.3</td>\n",
       "    </tr>\n",
       "    <tr>\n",
       "      <td>2</td>\n",
       "      <td>24</td>\n",
       "      <td>0</td>\n",
       "      <td>0</td>\n",
       "      <td>1</td>\n",
       "      <td>4</td>\n",
       "      <td>1.0</td>\n",
       "      <td>1</td>\n",
       "      <td>2</td>\n",
       "      <td>1</td>\n",
       "      <td>4</td>\n",
       "      <td>1</td>\n",
       "      <td>0.4</td>\n",
       "    </tr>\n",
       "    <tr>\n",
       "      <td>3</td>\n",
       "      <td>23</td>\n",
       "      <td>0</td>\n",
       "      <td>1</td>\n",
       "      <td>0</td>\n",
       "      <td>1</td>\n",
       "      <td>0.0</td>\n",
       "      <td>1</td>\n",
       "      <td>2</td>\n",
       "      <td>1</td>\n",
       "      <td>8</td>\n",
       "      <td>0</td>\n",
       "      <td>0.8</td>\n",
       "    </tr>\n",
       "    <tr>\n",
       "      <td>4</td>\n",
       "      <td>43</td>\n",
       "      <td>0</td>\n",
       "      <td>0</td>\n",
       "      <td>0</td>\n",
       "      <td>2</td>\n",
       "      <td>0.0</td>\n",
       "      <td>1</td>\n",
       "      <td>1</td>\n",
       "      <td>1</td>\n",
       "      <td>1</td>\n",
       "      <td>0</td>\n",
       "      <td>0.1</td>\n",
       "    </tr>\n",
       "  </tbody>\n",
       "</table>\n",
       "</div>"
      ],
      "text/plain": [
       "   age  juv_fel_count  juv_misd_count  juv_other_count  priors_count  \\\n",
       "0   69              0               0                0             0   \n",
       "1   34              0               0                0             0   \n",
       "2   24              0               0                1             4   \n",
       "3   23              0               1                0             1   \n",
       "4   43              0               0                0             2   \n",
       "\n",
       "   jail_time  sex  race  c_charge_degree  decile_score  two_year_recid  \\\n",
       "0        0.0    1     1                1             1               0   \n",
       "1       10.0    1     2                1             3               1   \n",
       "2        1.0    1     2                1             4               1   \n",
       "3        0.0    1     2                1             8               0   \n",
       "4        0.0    1     1                1             1               0   \n",
       "\n",
       "   compas_score  \n",
       "0           0.1  \n",
       "1           0.3  \n",
       "2           0.4  \n",
       "3           0.8  \n",
       "4           0.1  "
      ]
     },
     "execution_count": 5,
     "metadata": {},
     "output_type": "execute_result"
    }
   ],
   "source": [
    "from aif360.metrics.classification_metric import ClassificationMetric\n",
    "import matplotlib.pyplot as plt\n",
    "import pandas as pd\n",
    "from sklearn.metrics import roc_auc_score\n",
    "from sklearn.linear_model import LogisticRegression\n",
    "from sklearn.model_selection import train_test_split\n",
    "import warnings\n",
    "\n",
    "import joblib\n",
    "from utils import make_dataset, display_results\n",
    "\n",
    "warnings.filterwarnings('ignore')\n",
    "\n",
    "TARGET_COLS = 'two_year_recid'\n",
    "COMPAS_SCORES_COLS = 'decile_score'\n",
    "NUMERICAL_FEATURE_COLS = ['age',\n",
    "                          'juv_fel_count','juv_misd_count','juv_other_count',\n",
    "                          'priors_count','jail_time']\n",
    "CATEGORICAL_FEATURE_COLS = ['sex','race',\n",
    "                            'c_charge_degree']\n",
    "FEATURE_NAMES = NUMERICAL_FEATURE_COLS+CATEGORICAL_FEATURE_COLS\n",
    "\n",
    "PROTECTED_COLS = ['sex','race']\n",
    "\n",
    "BIAS_INFO = {'favorable_label':0,\n",
    "             'unfavorable_label':1,\n",
    "             'protected_columns':['race'],\n",
    "            }\n",
    "\n",
    "PRIVILEGED_INFO = {'unprivileged_groups':[{'race': 2},\n",
    "                                          {'race': 1},\n",
    "                                          {'race': 4},\n",
    "                                          {'race': 5},\n",
    "                                          {'race': 6}],\n",
    "                   'privileged_groups':[{'race': 3}]\n",
    "                  }\n",
    "\n",
    "data = pd.read_csv('../data/processed/compas-scores-two-years-processed.csv')\n",
    "data.head()"
   ]
  },
  {
   "cell_type": "markdown",
   "metadata": {},
   "source": [
    "### Disparate Impact Remover"
   ]
  },
  {
   "cell_type": "code",
   "execution_count": 8,
   "metadata": {},
   "outputs": [],
   "source": [
    "from aif360.algorithms.preprocessing import DisparateImpactRemover\n",
    "\n",
    "dataset = make_dataset(data, 'two_year_recid', **BIAS_INFO, **PRIVILEGED_INFO)\n",
    "\n",
    "disp_imp_remover = DisparateImpactRemover(sensitive_attribute='race',repair_level=1.0)\n",
    "\n",
    "dataset = disp_imp_remover.fit_transform(dataset).convert_to_dataframe()[0]"
   ]
  },
  {
   "cell_type": "code",
   "execution_count": 9,
   "metadata": {},
   "outputs": [],
   "source": [
    "data_cleaned = data.copy()\n",
    "data_cleaned['race'] = dataset['race'].values"
   ]
  },
  {
   "cell_type": "code",
   "execution_count": 10,
   "metadata": {},
   "outputs": [],
   "source": [
    "train, test = train_test_split(data_cleaned, test_size=0.2, random_state=1234)\n",
    "\n",
    "X_train, y_train = train[FEATURE_NAMES], train[TARGET_COLS]\n",
    "X_test, y_test = test[FEATURE_NAMES], test[TARGET_COLS]"
   ]
  },
  {
   "cell_type": "code",
   "execution_count": 11,
   "metadata": {},
   "outputs": [],
   "source": [
    "clf = LogisticRegression(random_state=1234)\n",
    "clf.fit(X_train, y_train)\n",
    "\n",
    "y_test_pred = clf.predict_proba(X_test)\n",
    "test['recid_prediction'] = (y_test_pred[:,1] >0.5).astype(int)\n",
    "\n",
    "roc_auc = roc_auc_score(y_test, y_test_pred[:,1])"
   ]
  },
  {
   "cell_type": "code",
   "execution_count": 12,
   "metadata": {},
   "outputs": [],
   "source": [
    "ground_truth_test = make_dataset(test, 'two_year_recid', **BIAS_INFO, **PRIVILEGED_INFO)\n",
    "prediction_test = make_dataset(test, 'recid_prediction', **BIAS_INFO, **PRIVILEGED_INFO)\n",
    "\n",
    "clf_metric = ClassificationMetric(ground_truth_test, prediction_test,**PRIVILEGED_INFO)"
   ]
  },
  {
   "cell_type": "markdown",
   "metadata": {},
   "source": [
    "# Reweighing"
   ]
  },
  {
   "cell_type": "code",
   "execution_count": 13,
   "metadata": {},
   "outputs": [],
   "source": [
    "from aif360.algorithms.preprocessing import Reweighing\n",
    "\n",
    "reweighing = Reweighing(**PRIVILEGED_INFO)"
   ]
  },
  {
   "cell_type": "code",
   "execution_count": 14,
   "metadata": {},
   "outputs": [],
   "source": [
    "train, test = train_test_split(data, test_size=0.2, random_state=1234)\n",
    "\n",
    "train_dataset = make_dataset(train, 'two_year_recid', **BIAS_INFO, **PRIVILEGED_INFO)\n",
    "test_dataset = make_dataset(test, 'two_year_recid', **BIAS_INFO, **PRIVILEGED_INFO)\n",
    "\n",
    "train_dataset = reweighing.fit_transform(train_dataset)\n",
    "test_dataset = reweighing.transform(test_dataset)"
   ]
  },
  {
   "cell_type": "code",
   "execution_count": 15,
   "metadata": {},
   "outputs": [
    {
     "data": {
      "text/plain": [
       "array([1.06614556, 1.06614556, 0.9307455 , ..., 1.06614556, 0.89397015,\n",
       "       0.9307455 ])"
      ]
     },
     "execution_count": 15,
     "metadata": {},
     "output_type": "execute_result"
    }
   ],
   "source": [
    "train_dataset.instance_weights"
   ]
  },
  {
   "cell_type": "code",
   "execution_count": 16,
   "metadata": {},
   "outputs": [],
   "source": [
    "train['race']=train_dataset.convert_to_dataframe()[0]['race'].values\n",
    "test['race']=test_dataset.convert_to_dataframe()[0]['race'].values\n",
    "\n",
    "train_weights = train_dataset.instance_weights"
   ]
  },
  {
   "cell_type": "code",
   "execution_count": 17,
   "metadata": {},
   "outputs": [],
   "source": [
    "X_train, y_train = train[FEATURE_NAMES], train[TARGET_COLS]\n",
    "X_test, y_test = test[FEATURE_NAMES], test[TARGET_COLS]"
   ]
  },
  {
   "cell_type": "code",
   "execution_count": 18,
   "metadata": {},
   "outputs": [],
   "source": [
    "clf = LogisticRegression(random_state=1234)\n",
    "clf.fit(X_train, y_train, sample_weight=train_weights)\n",
    "\n",
    "y_test_pred = clf.predict_proba(X_test)\n",
    "test['recid_prediction'] = (y_test_pred[:,1] >0.5).astype(int)\n",
    "\n",
    "roc_auc = roc_auc_score(y_test, y_test_pred[:,1])"
   ]
  },
  {
   "cell_type": "code",
   "execution_count": 19,
   "metadata": {},
   "outputs": [],
   "source": [
    "ground_truth_test = make_dataset(test, 'two_year_recid', **BIAS_INFO, **PRIVILEGED_INFO)\n",
    "prediction_test = make_dataset(test, 'recid_prediction', **BIAS_INFO, **PRIVILEGED_INFO)\n",
    "\n",
    "clf_metric = ClassificationMetric(ground_truth_test, prediction_test,**PRIVILEGED_INFO)"
   ]
  },
  {
   "cell_type": "code",
   "execution_count": 20,
   "metadata": {},
   "outputs": [
    {
     "data": {
      "text/html": [
       "<table style='width:100%; border:0px'><td style='width:30%;vertical-align:top;border:0px'><table border=\"1\" class=\"dataframe\">\n",
       "  <thead>\n",
       "    <tr style=\"text-align: right;\">\n",
       "      <th></th>\n",
       "      <th>metric_names</th>\n",
       "      <th>scores</th>\n",
       "    </tr>\n",
       "  </thead>\n",
       "  <tbody>\n",
       "    <tr>\n",
       "      <th>0</th>\n",
       "      <td>roc_auc_score</td>\n",
       "      <td>0.727046</td>\n",
       "    </tr>\n",
       "    <tr>\n",
       "      <th>1</th>\n",
       "      <td>true_positive_rate_difference</td>\n",
       "      <td>-0.087543</td>\n",
       "    </tr>\n",
       "    <tr>\n",
       "      <th>2</th>\n",
       "      <td>false_positive_rate_difference</td>\n",
       "      <td>-0.193763</td>\n",
       "    </tr>\n",
       "    <tr>\n",
       "      <th>3</th>\n",
       "      <td>false_omission_rate_difference</td>\n",
       "      <td>-0.022008</td>\n",
       "    </tr>\n",
       "    <tr>\n",
       "      <th>4</th>\n",
       "      <td>false_discovery_rate_difference</td>\n",
       "      <td>-0.023299</td>\n",
       "    </tr>\n",
       "    <tr>\n",
       "      <th>5</th>\n",
       "      <td>error_rate_difference</td>\n",
       "      <td>-0.019783</td>\n",
       "    </tr>\n",
       "    <tr>\n",
       "      <th>6</th>\n",
       "      <td>false_positive_rate_ratio</td>\n",
       "      <td>0.690940</td>\n",
       "    </tr>\n",
       "    <tr>\n",
       "      <th>7</th>\n",
       "      <td>false_negative_rate_ratio</td>\n",
       "      <td>1.610615</td>\n",
       "    </tr>\n",
       "    <tr>\n",
       "      <th>8</th>\n",
       "      <td>false_omission_rate_ratio</td>\n",
       "      <td>0.938378</td>\n",
       "    </tr>\n",
       "    <tr>\n",
       "      <th>9</th>\n",
       "      <td>false_discovery_rate_ratio</td>\n",
       "      <td>0.930680</td>\n",
       "    </tr>\n",
       "    <tr>\n",
       "      <th>10</th>\n",
       "      <td>error_rate_ratio</td>\n",
       "      <td>0.942001</td>\n",
       "    </tr>\n",
       "    <tr>\n",
       "      <th>11</th>\n",
       "      <td>average_odds_difference</td>\n",
       "      <td>-0.140653</td>\n",
       "    </tr>\n",
       "    <tr>\n",
       "      <th>12</th>\n",
       "      <td>disparate_impact</td>\n",
       "      <td>0.811512</td>\n",
       "    </tr>\n",
       "    <tr>\n",
       "      <th>13</th>\n",
       "      <td>statistical_parity_difference</td>\n",
       "      <td>-0.143762</td>\n",
       "    </tr>\n",
       "    <tr>\n",
       "      <th>14</th>\n",
       "      <td>equal_opportunity_difference</td>\n",
       "      <td>-0.087543</td>\n",
       "    </tr>\n",
       "    <tr>\n",
       "      <th>15</th>\n",
       "      <td>theil_index</td>\n",
       "      <td>0.174000</td>\n",
       "    </tr>\n",
       "    <tr>\n",
       "      <th>16</th>\n",
       "      <td>between_group_theil_index</td>\n",
       "      <td>0.001005</td>\n",
       "    </tr>\n",
       "    <tr>\n",
       "      <th>17</th>\n",
       "      <td>between_all_groups_theil_index</td>\n",
       "      <td>0.002513</td>\n",
       "    </tr>\n",
       "    <tr>\n",
       "      <th>18</th>\n",
       "      <td>coefficient_of_variation</td>\n",
       "      <td>0.724326</td>\n",
       "    </tr>\n",
       "    <tr>\n",
       "      <th>19</th>\n",
       "      <td>between_group_coefficient_of_variation</td>\n",
       "      <td>0.063726</td>\n",
       "    </tr>\n",
       "    <tr>\n",
       "      <th>20</th>\n",
       "      <td>between_all_groups_coefficient_of_variation</td>\n",
       "      <td>0.100299</td>\n",
       "    </tr>\n",
       "    <tr>\n",
       "      <th>21</th>\n",
       "      <td>generalized_entropy_index</td>\n",
       "      <td>0.131162</td>\n",
       "    </tr>\n",
       "    <tr>\n",
       "      <th>22</th>\n",
       "      <td>between_group_generalized_entropy_index</td>\n",
       "      <td>0.001015</td>\n",
       "    </tr>\n",
       "    <tr>\n",
       "      <th>23</th>\n",
       "      <td>between_all_groups_generalized_entropy_index</td>\n",
       "      <td>0.002515</td>\n",
       "    </tr>\n",
       "  </tbody>\n",
       "</table></td><td style='width:100%;vertical-align:center;border:100px'><img src=\"../results/temp_img.png\" style=\"height:300px\"></td></table>"
      ],
      "text/plain": [
       "<IPython.core.display.HTML object>"
      ]
     },
     "metadata": {},
     "output_type": "display_data"
    }
   ],
   "source": [
    "joblib.dump((clf_metric,roc_auc), '../results/1.2-preprocessing.pkl')\n",
    "display_results('../results/1.2-preprocessing.pkl')"
   ]
  },
  {
   "cell_type": "markdown",
   "metadata": {},
   "source": [
    "# LFR"
   ]
  },
  {
   "cell_type": "markdown",
   "metadata": {},
   "source": [
    "# OPTIM"
   ]
  },
  {
   "cell_type": "code",
   "execution_count": null,
   "metadata": {},
   "outputs": [],
   "source": []
  }
 ],
 "metadata": {
  "kernelspec": {
   "display_name": "model_fairness",
   "language": "python",
   "name": "model_fairness"
  },
  "language_info": {
   "codemirror_mode": {
    "name": "ipython",
    "version": 3
   },
   "file_extension": ".py",
   "mimetype": "text/x-python",
   "name": "python",
   "nbconvert_exporter": "python",
   "pygments_lexer": "ipython3",
   "version": "3.6.8"
  }
 },
 "nbformat": 4,
 "nbformat_minor": 4
}
